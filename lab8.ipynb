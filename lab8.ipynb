{
 "cells": [
  {
   "cell_type": "markdown",
   "id": "2fa55f3b",
   "metadata": {},
   "source": [
    "# Laboratorio 8 Anomalias\n",
    "\n",
    "----\n",
    "\n",
    "Santiago Pereira 22318\n",
    "\n",
    "Nancy Mazariegos 22513\n",
    "\n",
    "----\n"
   ]
  },
  {
   "cell_type": "markdown",
   "id": "b5f0aca5",
   "metadata": {},
   "source": [
    "### Importación de datos"
   ]
  },
  {
   "cell_type": "code",
   "execution_count": 11,
   "id": "6911074e",
   "metadata": {},
   "outputs": [
    {
     "name": "stdout",
     "output_type": "stream",
     "text": [
      "(581012, 54) [5 2 1 7 3 6 4]\n"
     ]
    }
   ],
   "source": [
    "import numpy as np, pandas as pd\n",
    "from sklearn.datasets import fetch_covtype\n",
    "\n",
    "data = fetch_covtype(as_frame=True)\n",
    "X = data.data\n",
    "y_cover = data.target\n",
    "\n",
    "print(X.shape, y_cover.unique())\n"
   ]
  },
  {
   "cell_type": "markdown",
   "id": "9f64b39a",
   "metadata": {},
   "source": [
    "----\n",
    "\n",
    "### Creación de etiquetas"
   ]
  },
  {
   "cell_type": "code",
   "execution_count": 12,
   "id": "610a24b7",
   "metadata": {},
   "outputs": [
    {
     "data": {
      "text/plain": [
       "((226640, 54),\n",
       " (56661, 54),\n",
       " (354372, 54),\n",
       " 1    297711\n",
       " 0     56661\n",
       " Name: count, dtype: int64)"
      ]
     },
     "execution_count": 12,
     "metadata": {},
     "output_type": "execute_result"
    }
   ],
   "source": [
    "import numpy as np, pandas as pd\n",
    "from sklearn.model_selection import train_test_split\n",
    "\n",
    "y_anom = (y_cover != 2).astype(int)  \n",
    "\n",
    "mask_norm = (y_anom == 0)\n",
    "X_norm, X_anom = X[mask_norm], X[~mask_norm]\n",
    "\n",
    "X_train_norm, X_val_norm = train_test_split(\n",
    "    X_norm, test_size=0.2, random_state=42, shuffle=True\n",
    ")\n",
    "\n",
    "X_test = pd.concat([X_val_norm, X_anom], axis=0)\n",
    "y_test = pd.concat([\n",
    "    pd.Series(0, index=X_val_norm.index),\n",
    "    pd.Series(1, index=X_anom.index)\n",
    "])\n",
    "X_train_norm.shape, X_val_norm.shape, X_test.shape, y_test.value_counts()\n"
   ]
  },
  {
   "cell_type": "markdown",
   "id": "50cc534f",
   "metadata": {},
   "source": [
    "----\n",
    "\n",
    "### Preprocesamiento"
   ]
  },
  {
   "cell_type": "code",
   "execution_count": 13,
   "id": "f633cdd2",
   "metadata": {},
   "outputs": [
    {
     "data": {
      "text/plain": [
       "((226640, 54), (56661, 54), (354372, 54))"
      ]
     },
     "execution_count": 13,
     "metadata": {},
     "output_type": "execute_result"
    }
   ],
   "source": [
    "from sklearn.compose import ColumnTransformer\n",
    "from sklearn.preprocessing import StandardScaler\n",
    "\n",
    "num_cols = X.columns[:10]\n",
    "\n",
    "preprocess = ColumnTransformer(\n",
    "    transformers=[('scale', StandardScaler(), num_cols)],\n",
    "    remainder='passthrough'  \n",
    ")\n",
    "\n",
    "X_train = preprocess.fit_transform(X_train_norm)\n",
    "X_val   = preprocess.transform(X_val_norm)\n",
    "X_test_ = preprocess.transform(X_test)\n",
    "\n",
    "X_train.shape, X_val.shape, X_test_.shape\n"
   ]
  },
  {
   "cell_type": "markdown",
   "id": "a5948292",
   "metadata": {},
   "source": [
    "----\n",
    "\n",
    "### Entrenamiento de Autoncodder"
   ]
  },
  {
   "cell_type": "code",
   "execution_count": 14,
   "id": "2abe0660",
   "metadata": {},
   "outputs": [
    {
     "name": "stdout",
     "output_type": "stream",
     "text": [
      "Epoch 1/100\n",
      "\u001b[1m443/443\u001b[0m \u001b[32m━━━━━━━━━━━━━━━━━━━━\u001b[0m\u001b[37m\u001b[0m \u001b[1m1s\u001b[0m 2ms/step - loss: 0.0258 - val_loss: 0.0037\n",
      "Epoch 2/100\n",
      "\u001b[1m443/443\u001b[0m \u001b[32m━━━━━━━━━━━━━━━━━━━━\u001b[0m\u001b[37m\u001b[0m \u001b[1m1s\u001b[0m 2ms/step - loss: 0.0025 - val_loss: 0.0018\n",
      "Epoch 3/100\n",
      "\u001b[1m443/443\u001b[0m \u001b[32m━━━━━━━━━━━━━━━━━━━━\u001b[0m\u001b[37m\u001b[0m \u001b[1m1s\u001b[0m 2ms/step - loss: 0.0014 - val_loss: 0.0013\n",
      "Epoch 4/100\n",
      "\u001b[1m443/443\u001b[0m \u001b[32m━━━━━━━━━━━━━━━━━━━━\u001b[0m\u001b[37m\u001b[0m \u001b[1m1s\u001b[0m 2ms/step - loss: 0.0010 - val_loss: 9.1426e-04\n",
      "Epoch 5/100\n",
      "\u001b[1m443/443\u001b[0m \u001b[32m━━━━━━━━━━━━━━━━━━━━\u001b[0m\u001b[37m\u001b[0m \u001b[1m1s\u001b[0m 2ms/step - loss: 7.8208e-04 - val_loss: 6.5740e-04\n",
      "Epoch 6/100\n",
      "\u001b[1m443/443\u001b[0m \u001b[32m━━━━━━━━━━━━━━━━━━━━\u001b[0m\u001b[37m\u001b[0m \u001b[1m1s\u001b[0m 2ms/step - loss: 6.0441e-04 - val_loss: 5.5048e-04\n",
      "Epoch 7/100\n",
      "\u001b[1m443/443\u001b[0m \u001b[32m━━━━━━━━━━━━━━━━━━━━\u001b[0m\u001b[37m\u001b[0m \u001b[1m1s\u001b[0m 2ms/step - loss: 5.0443e-04 - val_loss: 4.8302e-04\n",
      "Epoch 8/100\n",
      "\u001b[1m443/443\u001b[0m \u001b[32m━━━━━━━━━━━━━━━━━━━━\u001b[0m\u001b[37m\u001b[0m \u001b[1m1s\u001b[0m 2ms/step - loss: 4.4366e-04 - val_loss: 4.0112e-04\n",
      "Epoch 9/100\n",
      "\u001b[1m443/443\u001b[0m \u001b[32m━━━━━━━━━━━━━━━━━━━━\u001b[0m\u001b[37m\u001b[0m \u001b[1m1s\u001b[0m 2ms/step - loss: 3.9372e-04 - val_loss: 3.7109e-04\n",
      "Epoch 10/100\n",
      "\u001b[1m443/443\u001b[0m \u001b[32m━━━━━━━━━━━━━━━━━━━━\u001b[0m\u001b[37m\u001b[0m \u001b[1m1s\u001b[0m 2ms/step - loss: 3.4816e-04 - val_loss: 3.4754e-04\n",
      "Epoch 11/100\n",
      "\u001b[1m443/443\u001b[0m \u001b[32m━━━━━━━━━━━━━━━━━━━━\u001b[0m\u001b[37m\u001b[0m \u001b[1m1s\u001b[0m 2ms/step - loss: 3.3171e-04 - val_loss: 3.1691e-04\n",
      "Epoch 12/100\n",
      "\u001b[1m443/443\u001b[0m \u001b[32m━━━━━━━━━━━━━━━━━━━━\u001b[0m\u001b[37m\u001b[0m \u001b[1m1s\u001b[0m 2ms/step - loss: 2.9809e-04 - val_loss: 3.0273e-04\n",
      "Epoch 13/100\n",
      "\u001b[1m443/443\u001b[0m \u001b[32m━━━━━━━━━━━━━━━━━━━━\u001b[0m\u001b[37m\u001b[0m \u001b[1m1s\u001b[0m 2ms/step - loss: 2.8853e-04 - val_loss: 2.5207e-04\n",
      "Epoch 14/100\n",
      "\u001b[1m443/443\u001b[0m \u001b[32m━━━━━━━━━━━━━━━━━━━━\u001b[0m\u001b[37m\u001b[0m \u001b[1m1s\u001b[0m 2ms/step - loss: 2.6614e-04 - val_loss: 2.6358e-04\n",
      "Epoch 15/100\n",
      "\u001b[1m443/443\u001b[0m \u001b[32m━━━━━━━━━━━━━━━━━━━━\u001b[0m\u001b[37m\u001b[0m \u001b[1m1s\u001b[0m 2ms/step - loss: 2.5464e-04 - val_loss: 1.9848e-04\n",
      "Epoch 16/100\n",
      "\u001b[1m443/443\u001b[0m \u001b[32m━━━━━━━━━━━━━━━━━━━━\u001b[0m\u001b[37m\u001b[0m \u001b[1m1s\u001b[0m 2ms/step - loss: 2.3641e-04 - val_loss: 2.1953e-04\n",
      "Epoch 17/100\n",
      "\u001b[1m443/443\u001b[0m \u001b[32m━━━━━━━━━━━━━━━━━━━━\u001b[0m\u001b[37m\u001b[0m \u001b[1m1s\u001b[0m 2ms/step - loss: 2.3079e-04 - val_loss: 1.6084e-04\n",
      "Epoch 18/100\n",
      "\u001b[1m443/443\u001b[0m \u001b[32m━━━━━━━━━━━━━━━━━━━━\u001b[0m\u001b[37m\u001b[0m \u001b[1m1s\u001b[0m 2ms/step - loss: 2.1204e-04 - val_loss: 1.7822e-04\n",
      "Epoch 19/100\n",
      "\u001b[1m443/443\u001b[0m \u001b[32m━━━━━━━━━━━━━━━━━━━━\u001b[0m\u001b[37m\u001b[0m \u001b[1m1s\u001b[0m 2ms/step - loss: 1.8958e-04 - val_loss: 1.6731e-04\n",
      "Epoch 20/100\n",
      "\u001b[1m443/443\u001b[0m \u001b[32m━━━━━━━━━━━━━━━━━━━━\u001b[0m\u001b[37m\u001b[0m \u001b[1m1s\u001b[0m 2ms/step - loss: 1.9237e-04 - val_loss: 2.3924e-04\n",
      "Epoch 21/100\n",
      "\u001b[1m443/443\u001b[0m \u001b[32m━━━━━━━━━━━━━━━━━━━━\u001b[0m\u001b[37m\u001b[0m \u001b[1m1s\u001b[0m 2ms/step - loss: 1.8003e-04 - val_loss: 2.0080e-04\n",
      "Epoch 22/100\n",
      "\u001b[1m443/443\u001b[0m \u001b[32m━━━━━━━━━━━━━━━━━━━━\u001b[0m\u001b[37m\u001b[0m \u001b[1m1s\u001b[0m 2ms/step - loss: 1.7291e-04 - val_loss: 1.4110e-04\n",
      "Epoch 23/100\n",
      "\u001b[1m443/443\u001b[0m \u001b[32m━━━━━━━━━━━━━━━━━━━━\u001b[0m\u001b[37m\u001b[0m \u001b[1m1s\u001b[0m 2ms/step - loss: 1.7823e-04 - val_loss: 1.0126e-04\n",
      "Epoch 24/100\n",
      "\u001b[1m443/443\u001b[0m \u001b[32m━━━━━━━━━━━━━━━━━━━━\u001b[0m\u001b[37m\u001b[0m \u001b[1m1s\u001b[0m 2ms/step - loss: 1.6244e-04 - val_loss: 1.0610e-04\n",
      "Epoch 25/100\n",
      "\u001b[1m443/443\u001b[0m \u001b[32m━━━━━━━━━━━━━━━━━━━━\u001b[0m\u001b[37m\u001b[0m \u001b[1m1s\u001b[0m 2ms/step - loss: 1.4775e-04 - val_loss: 9.6493e-05\n",
      "Epoch 26/100\n",
      "\u001b[1m443/443\u001b[0m \u001b[32m━━━━━━━━━━━━━━━━━━━━\u001b[0m\u001b[37m\u001b[0m \u001b[1m1s\u001b[0m 2ms/step - loss: 1.4703e-04 - val_loss: 8.8231e-05\n",
      "Epoch 27/100\n",
      "\u001b[1m443/443\u001b[0m \u001b[32m━━━━━━━━━━━━━━━━━━━━\u001b[0m\u001b[37m\u001b[0m \u001b[1m1s\u001b[0m 2ms/step - loss: 1.3704e-04 - val_loss: 1.2912e-04\n",
      "Epoch 28/100\n",
      "\u001b[1m443/443\u001b[0m \u001b[32m━━━━━━━━━━━━━━━━━━━━\u001b[0m\u001b[37m\u001b[0m \u001b[1m1s\u001b[0m 2ms/step - loss: 1.3801e-04 - val_loss: 7.2776e-05\n",
      "Epoch 29/100\n",
      "\u001b[1m443/443\u001b[0m \u001b[32m━━━━━━━━━━━━━━━━━━━━\u001b[0m\u001b[37m\u001b[0m \u001b[1m1s\u001b[0m 2ms/step - loss: 1.2782e-04 - val_loss: 1.1093e-04\n",
      "Epoch 30/100\n",
      "\u001b[1m443/443\u001b[0m \u001b[32m━━━━━━━━━━━━━━━━━━━━\u001b[0m\u001b[37m\u001b[0m \u001b[1m1s\u001b[0m 2ms/step - loss: 1.3251e-04 - val_loss: 6.8903e-05\n",
      "Epoch 31/100\n",
      "\u001b[1m443/443\u001b[0m \u001b[32m━━━━━━━━━━━━━━━━━━━━\u001b[0m\u001b[37m\u001b[0m \u001b[1m1s\u001b[0m 2ms/step - loss: 1.1878e-04 - val_loss: 7.7971e-05\n",
      "Epoch 32/100\n",
      "\u001b[1m443/443\u001b[0m \u001b[32m━━━━━━━━━━━━━━━━━━━━\u001b[0m\u001b[37m\u001b[0m \u001b[1m1s\u001b[0m 2ms/step - loss: 1.2316e-04 - val_loss: 1.1678e-04\n",
      "Epoch 33/100\n",
      "\u001b[1m443/443\u001b[0m \u001b[32m━━━━━━━━━━━━━━━━━━━━\u001b[0m\u001b[37m\u001b[0m \u001b[1m1s\u001b[0m 2ms/step - loss: 1.1369e-04 - val_loss: 1.1327e-04\n",
      "Epoch 34/100\n",
      "\u001b[1m443/443\u001b[0m \u001b[32m━━━━━━━━━━━━━━━━━━━━\u001b[0m\u001b[37m\u001b[0m \u001b[1m1s\u001b[0m 2ms/step - loss: 1.1743e-04 - val_loss: 6.5425e-05\n",
      "Epoch 35/100\n",
      "\u001b[1m443/443\u001b[0m \u001b[32m━━━━━━━━━━━━━━━━━━━━\u001b[0m\u001b[37m\u001b[0m \u001b[1m1s\u001b[0m 2ms/step - loss: 1.2305e-04 - val_loss: 5.1282e-05\n",
      "Epoch 36/100\n",
      "\u001b[1m443/443\u001b[0m \u001b[32m━━━━━━━━━━━━━━━━━━━━\u001b[0m\u001b[37m\u001b[0m \u001b[1m1s\u001b[0m 2ms/step - loss: 1.1734e-04 - val_loss: 4.7730e-05\n",
      "Epoch 37/100\n",
      "\u001b[1m443/443\u001b[0m \u001b[32m━━━━━━━━━━━━━━━━━━━━\u001b[0m\u001b[37m\u001b[0m \u001b[1m1s\u001b[0m 2ms/step - loss: 1.0569e-04 - val_loss: 5.6902e-05\n",
      "Epoch 38/100\n",
      "\u001b[1m443/443\u001b[0m \u001b[32m━━━━━━━━━━━━━━━━━━━━\u001b[0m\u001b[37m\u001b[0m \u001b[1m1s\u001b[0m 2ms/step - loss: 9.9354e-05 - val_loss: 4.4383e-05\n",
      "Epoch 39/100\n",
      "\u001b[1m443/443\u001b[0m \u001b[32m━━━━━━━━━━━━━━━━━━━━\u001b[0m\u001b[37m\u001b[0m \u001b[1m1s\u001b[0m 2ms/step - loss: 9.4975e-05 - val_loss: 8.4876e-05\n",
      "Epoch 40/100\n",
      "\u001b[1m443/443\u001b[0m \u001b[32m━━━━━━━━━━━━━━━━━━━━\u001b[0m\u001b[37m\u001b[0m \u001b[1m1s\u001b[0m 2ms/step - loss: 1.0295e-04 - val_loss: 5.4634e-05\n",
      "Epoch 41/100\n",
      "\u001b[1m443/443\u001b[0m \u001b[32m━━━━━━━━━━━━━━━━━━━━\u001b[0m\u001b[37m\u001b[0m \u001b[1m1s\u001b[0m 2ms/step - loss: 9.8527e-05 - val_loss: 6.6722e-05\n",
      "Epoch 42/100\n",
      "\u001b[1m443/443\u001b[0m \u001b[32m━━━━━━━━━━━━━━━━━━━━\u001b[0m\u001b[37m\u001b[0m \u001b[1m1s\u001b[0m 2ms/step - loss: 9.9564e-05 - val_loss: 8.0402e-05\n",
      "Epoch 43/100\n",
      "\u001b[1m443/443\u001b[0m \u001b[32m━━━━━━━━━━━━━━━━━━━━\u001b[0m\u001b[37m\u001b[0m \u001b[1m1s\u001b[0m 2ms/step - loss: 8.8518e-05 - val_loss: 4.6138e-05\n"
     ]
    }
   ],
   "source": [
    "import tensorflow as tf\n",
    "from tensorflow.keras import layers, models\n",
    "from tensorflow.keras.callbacks import EarlyStopping\n",
    "\n",
    "tf.random.set_seed(42)\n",
    "\n",
    "input_dim = X_train.shape[1]\n",
    "\n",
    "inp = layers.Input(shape=(input_dim,))\n",
    "x = layers.Dense(128, activation='relu')(inp)\n",
    "x = layers.Dense(64, activation='relu')(x)\n",
    "encoded = layers.Dense(32, activation='relu')(x)\n",
    "x = layers.Dense(64, activation='relu')(encoded)\n",
    "x = layers.Dense(128, activation='relu')(x)\n",
    "out = layers.Dense(input_dim, activation='linear')(x)\n",
    "\n",
    "autoencoder = models.Model(inp, out)\n",
    "autoencoder.compile(optimizer='adam', loss='mse')\n",
    "\n",
    "es = EarlyStopping(monitor='val_loss', patience=5, restore_best_weights=True)\n",
    "hist = autoencoder.fit(\n",
    "    X_train, X_train,\n",
    "    validation_data=(X_val, X_val),\n",
    "    epochs=100, batch_size=512,\n",
    "    callbacks=[es], verbose=1\n",
    ")\n"
   ]
  },
  {
   "cell_type": "markdown",
   "id": "52227b0d",
   "metadata": {},
   "source": [
    "----\n",
    "\n",
    "### Evaluación del AE"
   ]
  },
  {
   "cell_type": "code",
   "execution_count": null,
   "id": "136fd576",
   "metadata": {},
   "outputs": [
    {
     "name": "stdout",
     "output_type": "stream",
     "text": [
      "AE | ROC-AUC: 0.6884374049804056  | PR-AUC: 0.9280385129108657\n",
      "AE | @Percentil95: {'F1': 0.4925415805629677, 'Precision': 0.9719497589896371, 'Recall': 0.329846730554128, 'CM': array([[ 53827,   2834],\n",
      "       [199512,  98199]])}\n",
      "AE | @F1-óptimo  : {'F1': 0.37924392136434915, 'Precision': 0.9861305114638448, 'Recall': 0.23476458713315934, 'CM': array([[ 55678,    983],\n",
      "       [227819,  69892]])}\n"
     ]
    }
   ],
   "source": [
    "import numpy as np\n",
    "from sklearn.metrics import (\n",
    "    f1_score, roc_auc_score, average_precision_score,\n",
    "    confusion_matrix, precision_score, recall_score\n",
    ")\n",
    "\n",
    "val_rec  = autoencoder.predict(X_val,  verbose=0)\n",
    "test_rec = autoencoder.predict(X_test_, verbose=0)\n",
    "val_err  = np.mean((X_val   - val_rec )**2, axis=1)\n",
    "test_err = np.mean((X_test_ - test_rec)**2, axis=1)\n",
    "\n",
    "thr_pct = np.percentile(val_err, 95)\n",
    "\n",
    "percentiles = np.linspace(80, 99.9, 200)\n",
    "best_f1, thr_f1 = -1, None\n",
    "for p in percentiles:\n",
    "    thr = np.percentile(test_err, p)\n",
    "    y_pred = (test_err >= thr).astype(int)\n",
    "    f1 = f1_score(y_test, y_pred)\n",
    "    if f1 > best_f1:\n",
    "        best_f1, thr_f1 = f1, thr\n",
    "\n",
    "def eval_with_thr(scores, y_true, thr):\n",
    "    y_pred = (scores >= thr).astype(int)\n",
    "    return {\n",
    "        \"F1\": f1_score(y_true, y_pred),\n",
    "        \"Precision\": precision_score(y_true, y_pred),\n",
    "        \"Recall\": recall_score(y_true, y_pred),\n",
    "        \"CM\": confusion_matrix(y_true, y_pred)\n",
    "    }\n",
    "\n",
    "rep_pct = eval_with_thr(test_err, y_test.values, thr_pct)\n",
    "rep_f1  = eval_with_thr(test_err, y_test.values, thr_f1)\n",
    "\n",
    "roc_auc = roc_auc_score(y_test, test_err)\n",
    "pr_auc  = average_precision_score(y_test, test_err)\n",
    "\n",
    "print(\"AE | ROC-AUC:\", roc_auc, \" | PR-AUC:\", pr_auc)\n",
    "print(\"AE | @Percentil95:\", rep_pct)\n",
    "print(\"AE | @F1-óptimo  :\", rep_f1)\n"
   ]
  },
  {
   "cell_type": "markdown",
   "id": "716de595",
   "metadata": {},
   "source": [
    "----\n",
    "\n",
    "### Baselines: Isolation Forest y LOF"
   ]
  },
  {
   "cell_type": "code",
   "execution_count": 16,
   "id": "6dbc6dfe",
   "metadata": {},
   "outputs": [
    {
     "data": {
      "text/plain": [
       "({'Modelo': 'IsolationForest',\n",
       "  'ROC-AUC': 0.6195095963765215,\n",
       "  'PR-AUC': 0.898039791748212,\n",
       "  'F1': 0.2783401215579119,\n",
       "  'Precision': 0.9448884740291309,\n",
       "  'Recall': 0.16320861506628911,\n",
       "  'CM': array([[ 53827,   2834],\n",
       "         [249122,  48589]])},\n",
       " {'Modelo': 'LOF',\n",
       "  'ROC-AUC': 0.8730097338420545,\n",
       "  'PR-AUC': 0.9727927730291904,\n",
       "  'F1': 0.7289359551535939,\n",
       "  'Precision': 0.9838234622585507,\n",
       "  'Recall': 0.5789440094588376,\n",
       "  'CM': array([[ 53827,   2834],\n",
       "         [125353, 172358]])})"
      ]
     },
     "execution_count": 16,
     "metadata": {},
     "output_type": "execute_result"
    }
   ],
   "source": [
    "from sklearn.ensemble import IsolationForest\n",
    "from sklearn.neighbors import LocalOutlierFactor\n",
    "from sklearn.metrics import average_precision_score, roc_auc_score\n",
    "\n",
    "iforest = IsolationForest(\n",
    "    n_estimators=200, max_samples='auto',\n",
    "    contamination='auto', random_state=42\n",
    ")\n",
    "iforest.fit(X_train)\n",
    "scores_if = -iforest.decision_function(X_test_)  \n",
    "\n",
    "lof = LocalOutlierFactor(n_neighbors=35, novelty=True)\n",
    "lof.fit(X_train)\n",
    "scores_lof = -lof.decision_function(X_test_)     \n",
    "\n",
    "mask_norm_test = (y_test.values == 0)\n",
    "thr_if  = np.percentile(scores_if [mask_norm_test], 95)\n",
    "thr_lof = np.percentile(scores_lof[mask_norm_test], 95)\n",
    "\n",
    "def full_report(name, scores, thr):\n",
    "    y_pred = (scores >= thr).astype(int)\n",
    "    return {\n",
    "        \"Modelo\": name,\n",
    "        \"ROC-AUC\": roc_auc_score(y_test, scores),\n",
    "        \"PR-AUC\":  average_precision_score(y_test, scores),\n",
    "        \"F1\": f1_score(y_test, y_pred),\n",
    "        \"Precision\": precision_score(y_test, y_pred),\n",
    "        \"Recall\": recall_score(y_test, y_pred),\n",
    "        \"CM\": confusion_matrix(y_test, y_pred)\n",
    "    }\n",
    "\n",
    "rep_if  = full_report(\"IsolationForest\", scores_if,  thr_if)\n",
    "rep_lof = full_report(\"LOF\",             scores_lof, thr_lof)\n",
    "\n",
    "rep_if, rep_lof\n"
   ]
  },
  {
   "cell_type": "markdown",
   "id": "93157258",
   "metadata": {},
   "source": [
    "----\n",
    "\n",
    "### Comparación (Tabla)"
   ]
  },
  {
   "cell_type": "code",
   "execution_count": 17,
   "id": "abca94d9",
   "metadata": {},
   "outputs": [
    {
     "data": {
      "text/html": [
       "<div>\n",
       "<style scoped>\n",
       "    .dataframe tbody tr th:only-of-type {\n",
       "        vertical-align: middle;\n",
       "    }\n",
       "\n",
       "    .dataframe tbody tr th {\n",
       "        vertical-align: top;\n",
       "    }\n",
       "\n",
       "    .dataframe thead th {\n",
       "        text-align: right;\n",
       "    }\n",
       "</style>\n",
       "<table border=\"1\" class=\"dataframe\">\n",
       "  <thead>\n",
       "    <tr style=\"text-align: right;\">\n",
       "      <th></th>\n",
       "      <th>Modelo</th>\n",
       "      <th>ROC-AUC</th>\n",
       "      <th>PR-AUC</th>\n",
       "      <th>F1</th>\n",
       "      <th>Precision</th>\n",
       "      <th>Recall</th>\n",
       "    </tr>\n",
       "  </thead>\n",
       "  <tbody>\n",
       "    <tr>\n",
       "      <th>0</th>\n",
       "      <td>AE@Percentil95</td>\n",
       "      <td>0.688437</td>\n",
       "      <td>0.928039</td>\n",
       "      <td>0.492542</td>\n",
       "      <td>0.971950</td>\n",
       "      <td>0.329847</td>\n",
       "    </tr>\n",
       "    <tr>\n",
       "      <th>1</th>\n",
       "      <td>AE@F1-óptimo</td>\n",
       "      <td>0.688437</td>\n",
       "      <td>0.928039</td>\n",
       "      <td>0.379244</td>\n",
       "      <td>0.986131</td>\n",
       "      <td>0.234765</td>\n",
       "    </tr>\n",
       "    <tr>\n",
       "      <th>2</th>\n",
       "      <td>IsolationForest</td>\n",
       "      <td>0.619510</td>\n",
       "      <td>0.898040</td>\n",
       "      <td>0.278340</td>\n",
       "      <td>0.944888</td>\n",
       "      <td>0.163209</td>\n",
       "    </tr>\n",
       "    <tr>\n",
       "      <th>3</th>\n",
       "      <td>LOF</td>\n",
       "      <td>0.873010</td>\n",
       "      <td>0.972793</td>\n",
       "      <td>0.728936</td>\n",
       "      <td>0.983823</td>\n",
       "      <td>0.578944</td>\n",
       "    </tr>\n",
       "  </tbody>\n",
       "</table>\n",
       "</div>"
      ],
      "text/plain": [
       "            Modelo   ROC-AUC    PR-AUC        F1  Precision    Recall\n",
       "0   AE@Percentil95  0.688437  0.928039  0.492542   0.971950  0.329847\n",
       "1     AE@F1-óptimo  0.688437  0.928039  0.379244   0.986131  0.234765\n",
       "2  IsolationForest  0.619510  0.898040  0.278340   0.944888  0.163209\n",
       "3              LOF  0.873010  0.972793  0.728936   0.983823  0.578944"
      ]
     },
     "execution_count": 17,
     "metadata": {},
     "output_type": "execute_result"
    }
   ],
   "source": [
    "import pandas as pd\n",
    "\n",
    "summary = pd.DataFrame([\n",
    "    {\"Modelo\":\"AE@Percentil95\",\"ROC-AUC\":roc_auc,\"PR-AUC\":pr_auc,\n",
    "     \"F1\":rep_pct[\"F1\"],\"Precision\":rep_pct[\"Precision\"],\"Recall\":rep_pct[\"Recall\"]},\n",
    "    {\"Modelo\":\"AE@F1-óptimo\",\"ROC-AUC\":roc_auc,\"PR-AUC\":pr_auc,\n",
    "     \"F1\":rep_f1[\"F1\"],\"Precision\":rep_f1[\"Precision\"],\"Recall\":rep_f1[\"Recall\"]},\n",
    "    {\"Modelo\":\"IsolationForest\",\"ROC-AUC\":rep_if[\"ROC-AUC\"],\"PR-AUC\":rep_if[\"PR-AUC\"],\n",
    "     \"F1\":rep_if[\"F1\"],\"Precision\":rep_if[\"Precision\"],\"Recall\":rep_if[\"Recall\"]},\n",
    "    {\"Modelo\":\"LOF\",\"ROC-AUC\":rep_lof[\"ROC-AUC\"],\"PR-AUC\":rep_lof[\"PR-AUC\"],\n",
    "     \"F1\":rep_lof[\"F1\"],\"Precision\":rep_lof[\"Precision\"],\"Recall\":rep_lof[\"Recall\"]},\n",
    "])\n",
    "summary\n"
   ]
  },
  {
   "cell_type": "markdown",
   "id": "b047bd0c",
   "metadata": {},
   "source": [
    "----\n",
    "\n",
    "### Gráficos"
   ]
  },
  {
   "cell_type": "code",
   "execution_count": 21,
   "id": "2aac3989",
   "metadata": {},
   "outputs": [
    {
     "data": {
      "text/plain": [
       "<matplotlib.legend.Legend at 0x399a58910>"
      ]
     },
     "execution_count": 21,
     "metadata": {},
     "output_type": "execute_result"
    },
    {
     "data": {
      "image/png": "[encoded data removed]",
      "text/plain": [
       "<Figure size 640x480 with 1 Axes>"
      ]
     },
     "metadata": {},
     "output_type": "display_data"
    },
    {
     "data": {
      "image/png": "[encoded data removed]",
      "text/plain": [
       "<Figure size 640x480 with 1 Axes>"
      ]
     },
     "metadata": {},
     "output_type": "display_data"
    }
   ],
   "source": [
    "import matplotlib.pyplot as plt\n",
    "from sklearn.metrics import precision_recall_curve, roc_curve\n",
    "\n",
    "fpr, tpr, _ = roc_curve(y_test, test_err)\n",
    "plt.figure()\n",
    "plt.plot(fpr, tpr, label=f'AE (ROC-AUC={roc_auc:.3f})')\n",
    "plt.plot([0,1],[0,1],'--')\n",
    "plt.xlabel('FPR'); plt.ylabel('TPR'); plt.title('ROC - Autoencoder'); plt.legend()\n",
    "\n",
    "prec, rec, _ = precision_recall_curve(y_test, test_err)\n",
    "plt.figure()\n",
    "plt.plot(rec, prec, label=f'AE (PR-AUC={pr_auc:.3f})')\n",
    "plt.xlabel('Recall'); plt.ylabel('Precision'); plt.title('PR - Autoencoder'); plt.legend()\n"
   ]
  },
  {
   "cell_type": "code",
   "execution_count": 22,
   "id": "d09d164c",
   "metadata": {},
   "outputs": [
    {
     "name": "stdout",
     "output_type": "stream",
     "text": [
      "AE Precision@1%: 1.0\n",
      "IF Precision@1%: 0.9966130397967824\n",
      "LOF Precision@1%: 0.9997177533163986\n"
     ]
    }
   ],
   "source": [
    "def precision_at_k(scores, y_true, k_frac=0.01):\n",
    "    k = max(1, int(k_frac * len(scores)))\n",
    "    idx = np.argsort(scores)[::-1]   \n",
    "    top = idx[:k]\n",
    "    return y_true.values[top].mean()\n",
    "\n",
    "print(\"AE Precision@1%:\", precision_at_k(test_err, y_test, 0.01))\n",
    "print(\"IF Precision@1%:\", precision_at_k(scores_if,  y_test, 0.01))\n",
    "print(\"LOF Precision@1%:\",precision_at_k(scores_lof, y_test, 0.01))\n"
   ]
  }
 ],
 "metadata": {
  "kernelspec": {
   "display_name": "base",
   "language": "python",
   "name": "python3"
  },
  "language_info": {
   "codemirror_mode": {
    "name": "ipython",
    "version": 3
   },
   "file_extension": ".py",
   "mimetype": "text/x-python",
   "name": "python",
   "nbconvert_exporter": "python",
   "pygments_lexer": "ipython3",
   "version": "3.13.7"
  }
 },
 "nbformat": 4,
 "nbformat_minor": 5
}
