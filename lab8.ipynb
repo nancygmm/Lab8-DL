{
 "cells": [
  {
   "cell_type": "markdown",
   "id": "2fa55f3b",
   "metadata": {},
   "source": [
    "# Laboratorio 8 Anomalias\n",
    "\n",
    "----\n",
    "\n",
    "Santiago Pereira 22318\n",
    "\n",
    "Nancy Mazariegos 22513\n",
    "\n",
    "----\n"
   ]
  },
  {
   "cell_type": "code",
   "execution_count": 6,
   "id": "6911074e",
   "metadata": {},
   "outputs": [
    {
     "name": "stdout",
     "output_type": "stream",
     "text": [
      "(581012, 54) [5 2 1 7 3 6 4]\n"
     ]
    }
   ],
   "source": [
    "import numpy as np, pandas as pd\n",
    "from sklearn.datasets import fetch_covtype\n",
    "\n",
    "data = fetch_covtype(as_frame=True)\n",
    "X = data.data\n",
    "y_cover = data.target\n",
    "\n",
    "print(X.shape, y_cover.unique())\n"
   ]
  },
  {
   "cell_type": "code",
   "execution_count": 10,
   "id": "610a24b7",
   "metadata": {},
   "outputs": [
    {
     "data": {
      "text/plain": [
       "((226640, 54),\n",
       " (56661, 54),\n",
       " (354372, 54),\n",
       " 1    297711\n",
       " 0     56661\n",
       " Name: count, dtype: int64)"
      ]
     },
     "execution_count": 10,
     "metadata": {},
     "output_type": "execute_result"
    }
   ],
   "source": [
    "import numpy as np, pandas as pd\n",
    "from sklearn.model_selection import train_test_split\n",
    "\n",
    "y_anom = (y_cover != 2).astype(int)  \n",
    "\n",
    "mask_norm = (y_anom == 0)\n",
    "X_norm, X_anom = X[mask_norm], X[~mask_norm]\n",
    "\n",
    "X_train_norm, X_val_norm = train_test_split(\n",
    "    X_norm, test_size=0.2, random_state=42, shuffle=True\n",
    ")\n",
    "\n",
    "X_test = pd.concat([X_val_norm, X_anom], axis=0)\n",
    "y_test = pd.concat([\n",
    "    pd.Series(0, index=X_val_norm.index),\n",
    "    pd.Series(1, index=X_anom.index)\n",
    "])\n",
    "X_train_norm.shape, X_val_norm.shape, X_test.shape, y_test.value_counts()\n"
   ]
  },
  {
   "cell_type": "code",
   "execution_count": 11,
   "id": "f633cdd2",
   "metadata": {},
   "outputs": [
    {
     "data": {
      "text/plain": [
       "((226640, 54), (56661, 54), (354372, 54))"
      ]
     },
     "execution_count": 11,
     "metadata": {},
     "output_type": "execute_result"
    }
   ],
   "source": [
    "from sklearn.compose import ColumnTransformer\n",
    "from sklearn.preprocessing import StandardScaler\n",
    "\n",
    "num_cols = X.columns[:10]\n",
    "\n",
    "preprocess = ColumnTransformer(\n",
    "    transformers=[('scale', StandardScaler(), num_cols)],\n",
    "    remainder='passthrough'  \n",
    ")\n",
    "\n",
    "X_train = preprocess.fit_transform(X_train_norm)\n",
    "X_val   = preprocess.transform(X_val_norm)\n",
    "X_test_ = preprocess.transform(X_test)\n",
    "\n",
    "X_train.shape, X_val.shape, X_test_.shape\n"
   ]
  },
  {
   "cell_type": "code",
   "execution_count": 18,
   "id": "2abe0660",
   "metadata": {},
   "outputs": [
    {
     "ename": "ModuleNotFoundError",
     "evalue": "No module named 'tensorflow'",
     "output_type": "error",
     "traceback": [
      "\u001b[31m---------------------------------------------------------------------------\u001b[39m",
      "\u001b[31mModuleNotFoundError\u001b[39m                       Traceback (most recent call last)",
      "\u001b[36mCell\u001b[39m\u001b[36m \u001b[39m\u001b[32mIn[18]\u001b[39m\u001b[32m, line 1\u001b[39m\n\u001b[32m----> \u001b[39m\u001b[32m1\u001b[39m \u001b[38;5;28;01mimport\u001b[39;00m\u001b[38;5;250m \u001b[39m\u001b[34;01mtensorflow\u001b[39;00m\u001b[38;5;250m \u001b[39m\u001b[38;5;28;01mas\u001b[39;00m\u001b[38;5;250m \u001b[39m\u001b[34;01mtf\u001b[39;00m\n\u001b[32m      2\u001b[39m \u001b[38;5;28;01mfrom\u001b[39;00m\u001b[38;5;250m \u001b[39m\u001b[34;01mtensorflow\u001b[39;00m\u001b[34;01m.\u001b[39;00m\u001b[34;01mkeras\u001b[39;00m\u001b[38;5;250m \u001b[39m\u001b[38;5;28;01mimport\u001b[39;00m layers, models\n\u001b[32m      3\u001b[39m \u001b[38;5;28;01mfrom\u001b[39;00m\u001b[38;5;250m \u001b[39m\u001b[34;01mtensorflow\u001b[39;00m\u001b[34;01m.\u001b[39;00m\u001b[34;01mkeras\u001b[39;00m\u001b[34;01m.\u001b[39;00m\u001b[34;01mcallbacks\u001b[39;00m\u001b[38;5;250m \u001b[39m\u001b[38;5;28;01mimport\u001b[39;00m EarlyStopping\n",
      "\u001b[31mModuleNotFoundError\u001b[39m: No module named 'tensorflow'"
     ]
    }
   ],
   "source": [
    "import tensorflow as tf\n",
    "from tensorflow.keras import layers, models\n",
    "from tensorflow.keras.callbacks import EarlyStopping\n",
    "\n",
    "tf.random.set_seed(42)\n",
    "\n",
    "input_dim = X_train.shape[1]\n",
    "\n",
    "inp = layers.Input(shape=(input_dim,))\n",
    "x = layers.Dense(128, activation='relu')(inp)\n",
    "x = layers.Dense(64, activation='relu')(x)\n",
    "encoded = layers.Dense(32, activation='relu')(x)\n",
    "x = layers.Dense(64, activation='relu')(encoded)\n",
    "x = layers.Dense(128, activation='relu')(x)\n",
    "out = layers.Dense(input_dim, activation='linear')(x)\n",
    "\n",
    "autoencoder = models.Model(inp, out)\n",
    "autoencoder.compile(optimizer='adam', loss='mse')\n",
    "\n",
    "es = EarlyStopping(monitor='val_loss', patience=5, restore_best_weights=True)\n",
    "hist = autoencoder.fit(\n",
    "    X_train, X_train,\n",
    "    validation_data=(X_val, X_val),\n",
    "    epochs=100, batch_size=512,\n",
    "    callbacks=[es], verbose=1\n",
    ")\n"
   ]
  }
 ],
 "metadata": {
  "kernelspec": {
   "display_name": "base",
   "language": "python",
   "name": "python3"
  },
  "language_info": {
   "codemirror_mode": {
    "name": "ipython",
    "version": 3
   },
   "file_extension": ".py",
   "mimetype": "text/x-python",
   "name": "python",
   "nbconvert_exporter": "python",
   "pygments_lexer": "ipython3",
   "version": "3.13.7"
  }
 },
 "nbformat": 4,
 "nbformat_minor": 5
}
